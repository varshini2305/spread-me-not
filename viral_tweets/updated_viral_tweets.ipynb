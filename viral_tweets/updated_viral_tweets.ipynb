{
 "cells": [
  {
   "cell_type": "code",
   "execution_count": 3,
   "id": "53585d24-0a9f-4f49-8bd3-0e2330c5666d",
   "metadata": {},
   "outputs": [
    {
     "name": "stdout",
     "output_type": "stream",
     "text": [
      "There is no current viral tweets topic.\n"
     ]
    }
   ],
   "source": [
    "import requests\n",
    "\n",
    "def get_viral_tweets_topic():\n",
    "    \"\"\"Fetches the viral tweets topic presented by Twitter in its website.\"\"\"\n",
    "\n",
    "    url = \"https://api.twitter.com/2/tweets/search/recent\"\n",
    "    params = {\n",
    "        \"q\": \"food\",\n",
    "        \"tweet.fields\": \"context_annotations\"\n",
    "    }\n",
    "\n",
    "    response = requests.get(url, params=params)\n",
    "\n",
    "    if response.status_code == 200:\n",
    "        data = response.json()\n",
    "\n",
    "        for tweet in data[\"data\"]:\n",
    "            if tweet[\"context_annotations\"]:\n",
    "                for annotation in tweet[\"context_annotations\"]:\n",
    "                    if annotation[\"domain\"][\"id\"] == 23:\n",
    "                        return annotation[\"entity\"][\"name\"]\n",
    "\n",
    "    return None\n",
    "\n",
    "if __name__ == \"__main__\":\n",
    "    topic = get_viral_tweets_topic()\n",
    "\n",
    "    if topic:\n",
    "        print(\"The current viral tweets topic is:\", topic)\n",
    "    else:\n",
    "        print(\"There is no current viral tweets topic.\")\n"
   ]
  },
  {
   "cell_type": "code",
   "execution_count": 4,
   "id": "fa743c79-c3eb-4422-95ac-da3c8ebd3858",
   "metadata": {},
   "outputs": [
    {
     "ename": "NameError",
     "evalue": "name 'response' is not defined",
     "output_type": "error",
     "traceback": [
      "\u001b[1;31m---------------------------------------------------------------------------\u001b[0m",
      "\u001b[1;31mNameError\u001b[0m                                 Traceback (most recent call last)",
      "Cell \u001b[1;32mIn[4], line 1\u001b[0m\n\u001b[1;32m----> 1\u001b[0m \u001b[43mresponse\u001b[49m\u001b[38;5;241m.\u001b[39mstatus_code\n",
      "\u001b[1;31mNameError\u001b[0m: name 'response' is not defined"
     ]
    }
   ],
   "source": [
    "response.status_code"
   ]
  },
  {
   "cell_type": "markdown",
   "id": "7eb16c62-2e9e-4893-aeb3-ea0f0980cc7d",
   "metadata": {},
   "source": [
    "fetching tweets using snscrape"
   ]
  },
  {
   "cell_type": "code",
   "execution_count": 1,
   "id": "1a8ac380-f9e8-4434-9b83-998b496a9a07",
   "metadata": {},
   "outputs": [
    {
     "ename": "AttributeError",
     "evalue": "module 'snscrape.utils' has no attribute 'TwitterSearch'",
     "output_type": "error",
     "traceback": [
      "\u001b[1;31m---------------------------------------------------------------------------\u001b[0m",
      "\u001b[1;31mAttributeError\u001b[0m                            Traceback (most recent call last)",
      "Cell \u001b[1;32mIn[1], line 21\u001b[0m\n\u001b[0;32m     18\u001b[0m     \u001b[38;5;28;01mreturn\u001b[39;00m \u001b[38;5;28;01mNone\u001b[39;00m\n\u001b[0;32m     20\u001b[0m \u001b[38;5;28;01mif\u001b[39;00m \u001b[38;5;18m__name__\u001b[39m \u001b[38;5;241m==\u001b[39m \u001b[38;5;124m\"\u001b[39m\u001b[38;5;124m__main__\u001b[39m\u001b[38;5;124m\"\u001b[39m:\n\u001b[1;32m---> 21\u001b[0m     topic \u001b[38;5;241m=\u001b[39m \u001b[43mget_viral_tweets_topic\u001b[49m\u001b[43m(\u001b[49m\u001b[43m)\u001b[49m\n\u001b[0;32m     23\u001b[0m     \u001b[38;5;28;01mif\u001b[39;00m topic:\n\u001b[0;32m     24\u001b[0m         \u001b[38;5;28mprint\u001b[39m(\u001b[38;5;124m\"\u001b[39m\u001b[38;5;124mThe current viral tweets topic is:\u001b[39m\u001b[38;5;124m\"\u001b[39m, topic)\n",
      "Cell \u001b[1;32mIn[1], line 6\u001b[0m, in \u001b[0;36mget_viral_tweets_topic\u001b[1;34m()\u001b[0m\n\u001b[0;32m      3\u001b[0m \u001b[38;5;28;01mdef\u001b[39;00m \u001b[38;5;21mget_viral_tweets_topic\u001b[39m():\n\u001b[0;32m      4\u001b[0m \u001b[38;5;250m    \u001b[39m\u001b[38;5;124;03m\"\"\"Fetches the viral tweets topic from Twitter.\"\"\"\u001b[39;00m\n\u001b[1;32m----> 6\u001b[0m     tweets \u001b[38;5;241m=\u001b[39m \u001b[43mtm\u001b[49m\u001b[38;5;241;43m.\u001b[39;49m\u001b[43mTwitterSearch\u001b[49m(\n\u001b[0;32m      7\u001b[0m         q\u001b[38;5;241m=\u001b[39m\u001b[38;5;124m\"\u001b[39m\u001b[38;5;124mtrending\u001b[39m\u001b[38;5;124m\"\u001b[39m,\n\u001b[0;32m      8\u001b[0m         result_type\u001b[38;5;241m=\u001b[39m\u001b[38;5;124m\"\u001b[39m\u001b[38;5;124mpopular\u001b[39m\u001b[38;5;124m\"\u001b[39m,\n\u001b[0;32m      9\u001b[0m         limit\u001b[38;5;241m=\u001b[39m\u001b[38;5;241m100\u001b[39m\n\u001b[0;32m     10\u001b[0m     )\u001b[38;5;241m.\u001b[39mget_tweets()\n\u001b[0;32m     12\u001b[0m     \u001b[38;5;28;01mfor\u001b[39;00m tweet \u001b[38;5;129;01min\u001b[39;00m tweets:\n\u001b[0;32m     13\u001b[0m         \u001b[38;5;28;01mif\u001b[39;00m tweet[\u001b[38;5;124m\"\u001b[39m\u001b[38;5;124mcontext_annotations\u001b[39m\u001b[38;5;124m\"\u001b[39m]:\n",
      "File \u001b[1;32mD:\\Projects\\virality_detection_and_content_credibility_analysis\\.venv\\lib\\site-packages\\snscrape\\utils.py:38\u001b[0m, in \u001b[0;36mmodule_deprecation_helper.<locals>.__getattr__\u001b[1;34m(name)\u001b[0m\n\u001b[0;32m     36\u001b[0m \twarnings\u001b[38;5;241m.\u001b[39mwarn(\u001b[38;5;124mf\u001b[39m\u001b[38;5;124m'\u001b[39m\u001b[38;5;132;01m{\u001b[39;00mname\u001b[38;5;132;01m}\u001b[39;00m\u001b[38;5;124m is deprecated, use \u001b[39m\u001b[38;5;132;01m{\u001b[39;00mnames[name]\u001b[38;5;241m.\u001b[39m\u001b[38;5;18m__name__\u001b[39m\u001b[38;5;132;01m}\u001b[39;00m\u001b[38;5;124m instead\u001b[39m\u001b[38;5;124m'\u001b[39m, DeprecatedFeatureWarning, stacklevel \u001b[38;5;241m=\u001b[39m \u001b[38;5;241m2\u001b[39m)\n\u001b[0;32m     37\u001b[0m \t\u001b[38;5;28;01mreturn\u001b[39;00m names[name]\n\u001b[1;32m---> 38\u001b[0m \u001b[38;5;28;01mraise\u001b[39;00m \u001b[38;5;167;01mAttributeError\u001b[39;00m(\u001b[38;5;124mf\u001b[39m\u001b[38;5;124m'\u001b[39m\u001b[38;5;124mmodule \u001b[39m\u001b[38;5;132;01m{\u001b[39;00m\u001b[38;5;18m__name__\u001b[39m\u001b[38;5;132;01m!r}\u001b[39;00m\u001b[38;5;124m has no attribute \u001b[39m\u001b[38;5;132;01m{\u001b[39;00mname\u001b[38;5;132;01m!r}\u001b[39;00m\u001b[38;5;124m'\u001b[39m)\n",
      "\u001b[1;31mAttributeError\u001b[0m: module 'snscrape.utils' has no attribute 'TwitterSearch'"
     ]
    }
   ],
   "source": [
    "import snscrape.modules.twitter as tm\n",
    "\n",
    "def get_viral_tweets_topic():\n",
    "    \"\"\"Fetches the viral tweets topic from Twitter.\"\"\"\n",
    "\n",
    "    tweets = tm.TwitterSearch(\n",
    "        q=\"trending\",\n",
    "        result_type=\"popular\",\n",
    "        limit=100\n",
    "    ).get_tweets()\n",
    "\n",
    "    for tweet in tweets:\n",
    "        if tweet[\"context_annotations\"]:\n",
    "            for annotation in tweet[\"context_annotations\"]:\n",
    "                if annotation[\"domain\"][\"id\"] == 23:\n",
    "                    return annotation[\"entity\"][\"name\"]\n",
    "\n",
    "    return None\n",
    "\n",
    "if __name__ == \"__main__\":\n",
    "    topic = get_viral_tweets_topic()\n",
    "\n",
    "    if topic:\n",
    "        print(\"The current viral tweets topic is:\", topic)\n",
    "    else:\n",
    "        print(\"There is no current viral tweets topic.\")\n"
   ]
  },
  {
   "cell_type": "code",
   "execution_count": null,
   "id": "33c48fd6-be9a-4441-a855-9b6bb9042c47",
   "metadata": {},
   "outputs": [],
   "source": []
  },
  {
   "cell_type": "code",
   "execution_count": 3,
   "id": "c7744d9e-5ae7-46e6-a83c-8a748daba387",
   "metadata": {},
   "outputs": [
    {
     "ename": "AttributeError",
     "evalue": "module 'snscrape.utils' has no attribute 'TwitterSearch'",
     "output_type": "error",
     "traceback": [
      "\u001b[1;31m---------------------------------------------------------------------------\u001b[0m",
      "\u001b[1;31mAttributeError\u001b[0m                            Traceback (most recent call last)",
      "Cell \u001b[1;32mIn[3], line 21\u001b[0m\n\u001b[0;32m     18\u001b[0m     \u001b[38;5;28;01mreturn\u001b[39;00m \u001b[38;5;28;01mNone\u001b[39;00m\n\u001b[0;32m     20\u001b[0m \u001b[38;5;28;01mif\u001b[39;00m \u001b[38;5;18m__name__\u001b[39m \u001b[38;5;241m==\u001b[39m \u001b[38;5;124m\"\u001b[39m\u001b[38;5;124m__main__\u001b[39m\u001b[38;5;124m\"\u001b[39m:\n\u001b[1;32m---> 21\u001b[0m     topic \u001b[38;5;241m=\u001b[39m \u001b[43mget_viral_tweets_topic\u001b[49m\u001b[43m(\u001b[49m\u001b[43m)\u001b[49m\n\u001b[0;32m     23\u001b[0m     \u001b[38;5;28;01mif\u001b[39;00m topic:\n\u001b[0;32m     24\u001b[0m         \u001b[38;5;28mprint\u001b[39m(\u001b[38;5;124m\"\u001b[39m\u001b[38;5;124mThe current viral tweets topic is:\u001b[39m\u001b[38;5;124m\"\u001b[39m, topic)\n",
      "Cell \u001b[1;32mIn[3], line 6\u001b[0m, in \u001b[0;36mget_viral_tweets_topic\u001b[1;34m()\u001b[0m\n\u001b[0;32m      3\u001b[0m \u001b[38;5;28;01mdef\u001b[39;00m \u001b[38;5;21mget_viral_tweets_topic\u001b[39m():\n\u001b[0;32m      4\u001b[0m \u001b[38;5;250m    \u001b[39m\u001b[38;5;124;03m\"\"\"Fetches the viral tweets topic from Twitter.\"\"\"\u001b[39;00m\n\u001b[1;32m----> 6\u001b[0m     tweets \u001b[38;5;241m=\u001b[39m \u001b[43msnscrape\u001b[49m\u001b[38;5;241;43m.\u001b[39;49m\u001b[43mmodules\u001b[49m\u001b[38;5;241;43m.\u001b[39;49m\u001b[43mtwitter\u001b[49m\u001b[38;5;241;43m.\u001b[39;49m\u001b[43mTwitterSearch\u001b[49m(\n\u001b[0;32m      7\u001b[0m         q\u001b[38;5;241m=\u001b[39m\u001b[38;5;124m\"\u001b[39m\u001b[38;5;124mtrending\u001b[39m\u001b[38;5;124m\"\u001b[39m,\n\u001b[0;32m      8\u001b[0m         result_type\u001b[38;5;241m=\u001b[39m\u001b[38;5;124m\"\u001b[39m\u001b[38;5;124mpopular\u001b[39m\u001b[38;5;124m\"\u001b[39m,\n\u001b[0;32m      9\u001b[0m         limit\u001b[38;5;241m=\u001b[39m\u001b[38;5;241m100\u001b[39m\n\u001b[0;32m     10\u001b[0m     )\u001b[38;5;241m.\u001b[39mget_tweets()\n\u001b[0;32m     12\u001b[0m     \u001b[38;5;28;01mfor\u001b[39;00m tweet \u001b[38;5;129;01min\u001b[39;00m tweets:\n\u001b[0;32m     13\u001b[0m         \u001b[38;5;28;01mif\u001b[39;00m tweet[\u001b[38;5;124m\"\u001b[39m\u001b[38;5;124mcontext_annotations\u001b[39m\u001b[38;5;124m\"\u001b[39m]:\n",
      "File \u001b[1;32mD:\\Projects\\virality_detection_and_content_credibility_analysis\\.venv\\lib\\site-packages\\snscrape\\utils.py:38\u001b[0m, in \u001b[0;36mmodule_deprecation_helper.<locals>.__getattr__\u001b[1;34m(name)\u001b[0m\n\u001b[0;32m     36\u001b[0m \twarnings\u001b[38;5;241m.\u001b[39mwarn(\u001b[38;5;124mf\u001b[39m\u001b[38;5;124m'\u001b[39m\u001b[38;5;132;01m{\u001b[39;00mname\u001b[38;5;132;01m}\u001b[39;00m\u001b[38;5;124m is deprecated, use \u001b[39m\u001b[38;5;132;01m{\u001b[39;00mnames[name]\u001b[38;5;241m.\u001b[39m\u001b[38;5;18m__name__\u001b[39m\u001b[38;5;132;01m}\u001b[39;00m\u001b[38;5;124m instead\u001b[39m\u001b[38;5;124m'\u001b[39m, DeprecatedFeatureWarning, stacklevel \u001b[38;5;241m=\u001b[39m \u001b[38;5;241m2\u001b[39m)\n\u001b[0;32m     37\u001b[0m \t\u001b[38;5;28;01mreturn\u001b[39;00m names[name]\n\u001b[1;32m---> 38\u001b[0m \u001b[38;5;28;01mraise\u001b[39;00m \u001b[38;5;167;01mAttributeError\u001b[39;00m(\u001b[38;5;124mf\u001b[39m\u001b[38;5;124m'\u001b[39m\u001b[38;5;124mmodule \u001b[39m\u001b[38;5;132;01m{\u001b[39;00m\u001b[38;5;18m__name__\u001b[39m\u001b[38;5;132;01m!r}\u001b[39;00m\u001b[38;5;124m has no attribute \u001b[39m\u001b[38;5;132;01m{\u001b[39;00mname\u001b[38;5;132;01m!r}\u001b[39;00m\u001b[38;5;124m'\u001b[39m)\n",
      "\u001b[1;31mAttributeError\u001b[0m: module 'snscrape.utils' has no attribute 'TwitterSearch'"
     ]
    }
   ],
   "source": [
    "import snscrape.modules.twitter\n",
    "\n",
    "def get_viral_tweets_topic():\n",
    "    \"\"\"Fetches the viral tweets topic from Twitter.\"\"\"\n",
    "\n",
    "    tweets = snscrape.modules.twitter.TwitterSearch(\n",
    "        q=\"trending\",\n",
    "        result_type=\"popular\",\n",
    "        limit=100\n",
    "    ).get_tweets()\n",
    "\n",
    "    for tweet in tweets:\n",
    "        if tweet[\"context_annotations\"]:\n",
    "            for annotation in tweet[\"context_annotations\"]:\n",
    "                if annotation[\"domain\"][\"id\"] == 23:\n",
    "                    return annotation[\"entity\"][\"name\"]\n",
    "\n",
    "    return None\n",
    "\n",
    "if __name__ == \"__main__\":\n",
    "    topic = get_viral_tweets_topic()\n",
    "\n",
    "    if topic:\n",
    "        print(\"The current viral tweets topic is:\", topic)\n",
    "    else:\n",
    "        print(\"There is no current viral tweets topic.\")\n"
   ]
  },
  {
   "cell_type": "code",
   "execution_count": null,
   "id": "32a4171c-9a47-419a-9ddb-a89b47b6c129",
   "metadata": {},
   "outputs": [],
   "source": [
    "import requests\n",
    "import json\n",
    "\n",
    "def get_trending_topics(location, language=\"en\", domain=\"all\"):\n",
    "    \"\"\"Gets the trending topics for a given location, language, and domain.\"\"\"\n",
    "    url = \"https://api.twitter.com/2/trends/place.json\"\n",
    "    params = {\n",
    "        \"id\": location,\n",
    "        \"lang\": language,\n",
    "        \"domain\": domain\n",
    "    }\n",
    "    response = requests.get(url, params=params)\n",
    "    if response.status_code == 200:\n",
    "        data = json.loads(response.content.decode())\n",
    "        trending_topics = data[\"trends\"]\n",
    "        return trending_topics\n",
    "    else:\n",
    "        print(\"Request failed with status code:\", response.status_code)\n",
    "        return None\n",
    "\n",
    "def main():\n",
    "    \"\"\"Gets the trending topics for the current location.\"\"\"\n",
    "    location = input(\"Enter a location: \")\n",
    "    language = input(\"Enter a language: \")\n",
    "    domain = input(\"Enter a domain: \")\n",
    "    trending_topics = get_trending_topics(location, language, domain)\n",
    "    if trending_topics is not None:\n",
    "        for trending_topic in trending_topics:\n",
    "            print(trending_topic[\"name\"], trending_topic[\"score\"])\n",
    "\n",
    "if __name__ == \"__main__\":\n",
    "    main()\n"
   ]
  }
 ],
 "metadata": {
  "kernelspec": {
   "display_name": "Virality Identifier",
   "language": "python",
   "name": "virality_env"
  },
  "language_info": {
   "codemirror_mode": {
    "name": "ipython",
    "version": 3
   },
   "file_extension": ".py",
   "mimetype": "text/x-python",
   "name": "python",
   "nbconvert_exporter": "python",
   "pygments_lexer": "ipython3",
   "version": "3.10.9"
  }
 },
 "nbformat": 4,
 "nbformat_minor": 5
}
